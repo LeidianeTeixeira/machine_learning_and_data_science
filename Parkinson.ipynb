{
  "nbformat": 4,
  "nbformat_minor": 0,
  "metadata": {
    "colab": {
      "name": "Atividade04_Adriana_Janina_Leidiane.ipynb",
      "provenance": [],
      "collapsed_sections": []
    },
    "kernelspec": {
      "display_name": "Python 3",
      "name": "python3"
    },
    "language_info": {
      "name": "python"
    }
  },
  "cells": [
    {
      "cell_type": "markdown",
      "metadata": {
        "id": "Oa7MQ1NpYl-C"
      },
      "source": [
        "```\n",
        "Instituto Federal do Norte de Minas Gerais - Campus Salinas\n",
        "Bacharelado em Sistemas de Informação\n",
        "Disciplina: Tópicos Especiais em Computação I\n",
        "Professora: Patrícia Lucas\n",
        "Alunas: Adriana de Oliveira Barros, Janina Barbosa de Aguilar e Leidiane Teixeira dos Reis\n",
        "```"
      ]
    },
    {
      "cell_type": "markdown",
      "metadata": {
        "id": "D11cxs9lY1n3"
      },
      "source": [
        "# Atividade 4\n",
        "\n",
        "**Objetivo**: desenvolver e praticar o algoritmo MLP (Multi Layer Perceptron) em um problema de classificação, bem como todas as técnica que envolvem o aprendizado de máquina vistas até o momento.\n",
        "\n",
        "**Problema**: utilize o dataset disponível no site Kaggle (clique aqui) e aplique o MLP para verificar se  ́e possível definir, com base nos dados apresentados, se uma pessoa está com a doença de Parkinson."
      ]
    },
    {
      "cell_type": "markdown",
      "metadata": {
        "id": "2ggiSKp75Xl9"
      },
      "source": [
        "##**Análise de dados**"
      ]
    },
    {
      "cell_type": "markdown",
      "metadata": {
        "id": "bqpCLSJAbHsp"
      },
      "source": [
        "**Importação e carregamento de dados**\n",
        "\n",
        "\n",
        "---\n",
        "\n",
        "\n"
      ]
    },
    {
      "cell_type": "code",
      "metadata": {
        "id": "WClynSNqYZzR"
      },
      "source": [
        "#Bibliotecas\n",
        "from google.colab import files\n",
        "import io\n",
        "import pandas as pd"
      ],
      "execution_count": null,
      "outputs": []
    },
    {
      "cell_type": "code",
      "metadata": {
        "colab": {
          "resources": {
            "http://localhost:8080/nbextensions/google.colab/files.js": {
              "data": "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",
              "ok": true,
              "headers": [
                [
                  "content-type",
                  "application/javascript"
                ]
              ],
              "status": 200,
              "status_text": ""
            }
          },
          "base_uri": "https://localhost:8080/",
          "height": 72
        },
        "id": "0REPL2tubZTl",
        "outputId": "608f931e-afee-4408-a0e6-de5299ad8996"
      },
      "source": [
        "#Importando conjunto de dados\n",
        "uploaded = files.upload()\n",
        "data = pd.read_csv(io.BytesIO(uploaded[list(uploaded.keys())[0]]))"
      ],
      "execution_count": null,
      "outputs": [
        {
          "output_type": "display_data",
          "data": {
            "text/html": [
              "\n",
              "     <input type=\"file\" id=\"files-830bbbe2-f56a-472c-89aa-ee7aefd6b185\" name=\"files[]\" multiple disabled\n",
              "        style=\"border:none\" />\n",
              "     <output id=\"result-830bbbe2-f56a-472c-89aa-ee7aefd6b185\">\n",
              "      Upload widget is only available when the cell has been executed in the\n",
              "      current browser session. Please rerun this cell to enable.\n",
              "      </output>\n",
              "      <script src=\"/nbextensions/google.colab/files.js\"></script> "
            ],
            "text/plain": [
              "<IPython.core.display.HTML object>"
            ]
          },
          "metadata": {
            "tags": []
          }
        },
        {
          "output_type": "stream",
          "text": [
            "Saving pd_speech_features1.csv to pd_speech_features1.csv\n"
          ],
          "name": "stdout"
        }
      ]
    },
    {
      "cell_type": "markdown",
      "metadata": {
        "id": "HEJItpaNbVzH"
      },
      "source": [
        "**Visualização dos dados**\n",
        "\n",
        "\n",
        "---"
      ]
    },
    {
      "cell_type": "code",
      "metadata": {
        "colab": {
          "base_uri": "https://localhost:8080/",
          "height": 191
        },
        "id": "Lnn3pDPabpxX",
        "outputId": "817cb3d7-d1e8-455e-a20e-cf41696d10ef"
      },
      "source": [
        "data.head(3)"
      ],
      "execution_count": null,
      "outputs": [
        {
          "output_type": "execute_result",
          "data": {
            "text/html": [
              "<div>\n",
              "<style scoped>\n",
              "    .dataframe tbody tr th:only-of-type {\n",
              "        vertical-align: middle;\n",
              "    }\n",
              "\n",
              "    .dataframe tbody tr th {\n",
              "        vertical-align: top;\n",
              "    }\n",
              "\n",
              "    .dataframe thead th {\n",
              "        text-align: right;\n",
              "    }\n",
              "</style>\n",
              "<table border=\"1\" class=\"dataframe\">\n",
              "  <thead>\n",
              "    <tr style=\"text-align: right;\">\n",
              "      <th></th>\n",
              "      <th>id</th>\n",
              "      <th>gender</th>\n",
              "      <th>PPE</th>\n",
              "      <th>DFA</th>\n",
              "      <th>RPDE</th>\n",
              "      <th>numPulses</th>\n",
              "      <th>numPeriodsPulses</th>\n",
              "      <th>meanPeriodPulses</th>\n",
              "      <th>stdDevPeriodPulses</th>\n",
              "      <th>locPctJitter</th>\n",
              "      <th>locAbsJitter</th>\n",
              "      <th>rapJitter</th>\n",
              "      <th>ppq5Jitter</th>\n",
              "      <th>ddpJitter</th>\n",
              "      <th>locShimmer</th>\n",
              "      <th>locDbShimmer</th>\n",
              "      <th>apq3Shimmer</th>\n",
              "      <th>apq5Shimmer</th>\n",
              "      <th>apq11Shimmer</th>\n",
              "      <th>ddaShimmer</th>\n",
              "      <th>meanAutoCorrHarmonicity</th>\n",
              "      <th>meanNoiseToHarmHarmonicity</th>\n",
              "      <th>meanHarmToNoiseHarmonicity</th>\n",
              "      <th>minIntensity</th>\n",
              "      <th>maxIntensity</th>\n",
              "      <th>meanIntensity</th>\n",
              "      <th>f1</th>\n",
              "      <th>f2</th>\n",
              "      <th>f3</th>\n",
              "      <th>f4</th>\n",
              "      <th>b1</th>\n",
              "      <th>b2</th>\n",
              "      <th>b3</th>\n",
              "      <th>b4</th>\n",
              "      <th>GQ_prc5_95</th>\n",
              "      <th>GQ_std_cycle_open</th>\n",
              "      <th>GQ_std_cycle_closed</th>\n",
              "      <th>GNE_mean</th>\n",
              "      <th>GNE_std</th>\n",
              "      <th>GNE_SNR_TKEO</th>\n",
              "      <th>...</th>\n",
              "      <th>tqwt_skewnessValue_dec_34</th>\n",
              "      <th>tqwt_skewnessValue_dec_35</th>\n",
              "      <th>tqwt_skewnessValue_dec_36</th>\n",
              "      <th>tqwt_kurtosisValue_dec_1</th>\n",
              "      <th>tqwt_kurtosisValue_dec_2</th>\n",
              "      <th>tqwt_kurtosisValue_dec_3</th>\n",
              "      <th>tqwt_kurtosisValue_dec_4</th>\n",
              "      <th>tqwt_kurtosisValue_dec_5</th>\n",
              "      <th>tqwt_kurtosisValue_dec_6</th>\n",
              "      <th>tqwt_kurtosisValue_dec_7</th>\n",
              "      <th>tqwt_kurtosisValue_dec_8</th>\n",
              "      <th>tqwt_kurtosisValue_dec_9</th>\n",
              "      <th>tqwt_kurtosisValue_dec_10</th>\n",
              "      <th>tqwt_kurtosisValue_dec_11</th>\n",
              "      <th>tqwt_kurtosisValue_dec_12</th>\n",
              "      <th>tqwt_kurtosisValue_dec_13</th>\n",
              "      <th>tqwt_kurtosisValue_dec_14</th>\n",
              "      <th>tqwt_kurtosisValue_dec_15</th>\n",
              "      <th>tqwt_kurtosisValue_dec_16</th>\n",
              "      <th>tqwt_kurtosisValue_dec_17</th>\n",
              "      <th>tqwt_kurtosisValue_dec_18</th>\n",
              "      <th>tqwt_kurtosisValue_dec_19</th>\n",
              "      <th>tqwt_kurtosisValue_dec_20</th>\n",
              "      <th>tqwt_kurtosisValue_dec_21</th>\n",
              "      <th>tqwt_kurtosisValue_dec_22</th>\n",
              "      <th>tqwt_kurtosisValue_dec_23</th>\n",
              "      <th>tqwt_kurtosisValue_dec_24</th>\n",
              "      <th>tqwt_kurtosisValue_dec_25</th>\n",
              "      <th>tqwt_kurtosisValue_dec_26</th>\n",
              "      <th>tqwt_kurtosisValue_dec_27</th>\n",
              "      <th>tqwt_kurtosisValue_dec_28</th>\n",
              "      <th>tqwt_kurtosisValue_dec_29</th>\n",
              "      <th>tqwt_kurtosisValue_dec_30</th>\n",
              "      <th>tqwt_kurtosisValue_dec_31</th>\n",
              "      <th>tqwt_kurtosisValue_dec_32</th>\n",
              "      <th>tqwt_kurtosisValue_dec_33</th>\n",
              "      <th>tqwt_kurtosisValue_dec_34</th>\n",
              "      <th>tqwt_kurtosisValue_dec_35</th>\n",
              "      <th>tqwt_kurtosisValue_dec_36</th>\n",
              "      <th>class</th>\n",
              "    </tr>\n",
              "  </thead>\n",
              "  <tbody>\n",
              "    <tr>\n",
              "      <th>0</th>\n",
              "      <td>0</td>\n",
              "      <td>1</td>\n",
              "      <td>0.85247</td>\n",
              "      <td>0.71826</td>\n",
              "      <td>0.57227</td>\n",
              "      <td>240</td>\n",
              "      <td>239</td>\n",
              "      <td>0.008064</td>\n",
              "      <td>0.000087</td>\n",
              "      <td>0.00218</td>\n",
              "      <td>0.000018</td>\n",
              "      <td>0.00067</td>\n",
              "      <td>0.00129</td>\n",
              "      <td>2.00000</td>\n",
              "      <td>0.05883</td>\n",
              "      <td>517.0</td>\n",
              "      <td>0.03011</td>\n",
              "      <td>0.03496</td>\n",
              "      <td>0.04828</td>\n",
              "      <td>0.09034</td>\n",
              "      <td>0.970805</td>\n",
              "      <td>0.036223</td>\n",
              "      <td>18995.0</td>\n",
              "      <td>69.997496</td>\n",
              "      <td>76.088046</td>\n",
              "      <td>72.465512</td>\n",
              "      <td>539.342735</td>\n",
              "      <td>1031.849040</td>\n",
              "      <td>2447.162183</td>\n",
              "      <td>3655.054806</td>\n",
              "      <td>101.092218</td>\n",
              "      <td>83.147440</td>\n",
              "      <td>255.214830</td>\n",
              "      <td>396.643631</td>\n",
              "      <td>0.77778</td>\n",
              "      <td>11.7245</td>\n",
              "      <td>2.8277</td>\n",
              "      <td>1173.00000</td>\n",
              "      <td>0.26512</td>\n",
              "      <td>0.083127</td>\n",
              "      <td>...</td>\n",
              "      <td>0.071728</td>\n",
              "      <td>0.010352</td>\n",
              "      <td>-2.73030</td>\n",
              "      <td>6.650070e+01</td>\n",
              "      <td>36.9934</td>\n",
              "      <td>26.3508</td>\n",
              "      <td>51.9577</td>\n",
              "      <td>21.5451</td>\n",
              "      <td>8.2488</td>\n",
              "      <td>8.0024</td>\n",
              "      <td>6.9635</td>\n",
              "      <td>6.9189</td>\n",
              "      <td>5.0622</td>\n",
              "      <td>4.6068</td>\n",
              "      <td>7.7218</td>\n",
              "      <td>2.7224</td>\n",
              "      <td>2.4171</td>\n",
              "      <td>2.9383</td>\n",
              "      <td>4.2077</td>\n",
              "      <td>3.1541</td>\n",
              "      <td>2.8531</td>\n",
              "      <td>2.7496</td>\n",
              "      <td>2155.0000</td>\n",
              "      <td>2.9457</td>\n",
              "      <td>2.1993</td>\n",
              "      <td>1983.0000</td>\n",
              "      <td>1.8314</td>\n",
              "      <td>2.0062</td>\n",
              "      <td>1.6058</td>\n",
              "      <td>1.5466</td>\n",
              "      <td>1562.0000</td>\n",
              "      <td>2.6445</td>\n",
              "      <td>3.8686</td>\n",
              "      <td>4.2105</td>\n",
              "      <td>5.1221</td>\n",
              "      <td>4.4625</td>\n",
              "      <td>2.6202</td>\n",
              "      <td>3.0004</td>\n",
              "      <td>18.9405</td>\n",
              "      <td>1</td>\n",
              "    </tr>\n",
              "    <tr>\n",
              "      <th>1</th>\n",
              "      <td>0</td>\n",
              "      <td>1</td>\n",
              "      <td>0.76686</td>\n",
              "      <td>0.69481</td>\n",
              "      <td>0.53966</td>\n",
              "      <td>234</td>\n",
              "      <td>233</td>\n",
              "      <td>0.008258</td>\n",
              "      <td>0.000073</td>\n",
              "      <td>0.00195</td>\n",
              "      <td>0.000016</td>\n",
              "      <td>0.00052</td>\n",
              "      <td>0.00112</td>\n",
              "      <td>0.00157</td>\n",
              "      <td>0.05516</td>\n",
              "      <td>502.0</td>\n",
              "      <td>0.02320</td>\n",
              "      <td>0.03675</td>\n",
              "      <td>0.06195</td>\n",
              "      <td>0.06961</td>\n",
              "      <td>0.984322</td>\n",
              "      <td>0.017974</td>\n",
              "      <td>21497.0</td>\n",
              "      <td>67.415903</td>\n",
              "      <td>73.046374</td>\n",
              "      <td>71.528945</td>\n",
              "      <td>564.363614</td>\n",
              "      <td>1016.367294</td>\n",
              "      <td>2383.565201</td>\n",
              "      <td>3498.681572</td>\n",
              "      <td>58.465428</td>\n",
              "      <td>86.487292</td>\n",
              "      <td>248.357127</td>\n",
              "      <td>218.229722</td>\n",
              "      <td>0.81250</td>\n",
              "      <td>13.8284</td>\n",
              "      <td>2.8908</td>\n",
              "      <td>1.02210</td>\n",
              "      <td>0.22004</td>\n",
              "      <td>0.127410</td>\n",
              "      <td>...</td>\n",
              "      <td>0.729330</td>\n",
              "      <td>0.780410</td>\n",
              "      <td>5.22940</td>\n",
              "      <td>8.643986e+06</td>\n",
              "      <td>3962.0554</td>\n",
              "      <td>2976.2411</td>\n",
              "      <td>4329.0607</td>\n",
              "      <td>4005.1329</td>\n",
              "      <td>1127.6762</td>\n",
              "      <td>116.5331</td>\n",
              "      <td>20.2332</td>\n",
              "      <td>13.6395</td>\n",
              "      <td>12.5514</td>\n",
              "      <td>13.6965</td>\n",
              "      <td>60.8974</td>\n",
              "      <td>6.2958</td>\n",
              "      <td>3.0323</td>\n",
              "      <td>3.4039</td>\n",
              "      <td>4.3794</td>\n",
              "      <td>2.4329</td>\n",
              "      <td>2.0585</td>\n",
              "      <td>2.1839</td>\n",
              "      <td>2.2061</td>\n",
              "      <td>3.0999</td>\n",
              "      <td>1.9824</td>\n",
              "      <td>1.6227</td>\n",
              "      <td>1.5783</td>\n",
              "      <td>2047.0000</td>\n",
              "      <td>1.5772</td>\n",
              "      <td>1553.0000</td>\n",
              "      <td>1.5589</td>\n",
              "      <td>3.6107</td>\n",
              "      <td>23.5155</td>\n",
              "      <td>14.1962</td>\n",
              "      <td>11.0261</td>\n",
              "      <td>9.5082</td>\n",
              "      <td>6.5245</td>\n",
              "      <td>6.3431</td>\n",
              "      <td>45178.0000</td>\n",
              "      <td>1</td>\n",
              "    </tr>\n",
              "    <tr>\n",
              "      <th>2</th>\n",
              "      <td>0</td>\n",
              "      <td>1</td>\n",
              "      <td>0.85083</td>\n",
              "      <td>0.67604</td>\n",
              "      <td>0.58982</td>\n",
              "      <td>232</td>\n",
              "      <td>231</td>\n",
              "      <td>0.008340</td>\n",
              "      <td>0.000060</td>\n",
              "      <td>0.00176</td>\n",
              "      <td>0.000015</td>\n",
              "      <td>0.00057</td>\n",
              "      <td>0.00111</td>\n",
              "      <td>0.00171</td>\n",
              "      <td>0.09902</td>\n",
              "      <td>897.0</td>\n",
              "      <td>0.05094</td>\n",
              "      <td>0.06497</td>\n",
              "      <td>0.07772</td>\n",
              "      <td>0.15282</td>\n",
              "      <td>0.974846</td>\n",
              "      <td>0.026313</td>\n",
              "      <td>17651.0</td>\n",
              "      <td>62.661706</td>\n",
              "      <td>71.633549</td>\n",
              "      <td>68.086583</td>\n",
              "      <td>548.444604</td>\n",
              "      <td>1032.406341</td>\n",
              "      <td>2357.826954</td>\n",
              "      <td>3678.128717</td>\n",
              "      <td>160.387771</td>\n",
              "      <td>54.685168</td>\n",
              "      <td>151.694847</td>\n",
              "      <td>84.240339</td>\n",
              "      <td>0.81818</td>\n",
              "      <td>26.9273</td>\n",
              "      <td>2.6975</td>\n",
              "      <td>0.84951</td>\n",
              "      <td>0.15756</td>\n",
              "      <td>0.116890</td>\n",
              "      <td>...</td>\n",
              "      <td>0.269510</td>\n",
              "      <td>-0.005522</td>\n",
              "      <td>0.35054</td>\n",
              "      <td>2.927170e+01</td>\n",
              "      <td>32.4971</td>\n",
              "      <td>38.9453</td>\n",
              "      <td>85148.0000</td>\n",
              "      <td>62.5132</td>\n",
              "      <td>9.7308</td>\n",
              "      <td>6889.0000</td>\n",
              "      <td>6.1357</td>\n",
              "      <td>5.4926</td>\n",
              "      <td>3.9078</td>\n",
              "      <td>4.0864</td>\n",
              "      <td>6.9828</td>\n",
              "      <td>3.4411</td>\n",
              "      <td>3.5173</td>\n",
              "      <td>3.7204</td>\n",
              "      <td>4.2212</td>\n",
              "      <td>3.4881</td>\n",
              "      <td>3.4851</td>\n",
              "      <td>3.3007</td>\n",
              "      <td>2.0427</td>\n",
              "      <td>3.1436</td>\n",
              "      <td>2.1203</td>\n",
              "      <td>1.6627</td>\n",
              "      <td>1.6731</td>\n",
              "      <td>3.2597</td>\n",
              "      <td>1.5921</td>\n",
              "      <td>1.5399</td>\n",
              "      <td>1.5643</td>\n",
              "      <td>2.3308</td>\n",
              "      <td>9.4959</td>\n",
              "      <td>10.7458</td>\n",
              "      <td>11.0177</td>\n",
              "      <td>4.8066</td>\n",
              "      <td>2.9199</td>\n",
              "      <td>3.1495</td>\n",
              "      <td>4.7666</td>\n",
              "      <td>1</td>\n",
              "    </tr>\n",
              "  </tbody>\n",
              "</table>\n",
              "<p>3 rows × 755 columns</p>\n",
              "</div>"
            ],
            "text/plain": [
              "   id  gender  ...  tqwt_kurtosisValue_dec_36  class\n",
              "0   0       1  ...                    18.9405      1\n",
              "1   0       1  ...                 45178.0000      1\n",
              "2   0       1  ...                     4.7666      1\n",
              "\n",
              "[3 rows x 755 columns]"
            ]
          },
          "metadata": {
            "tags": []
          },
          "execution_count": 3
        }
      ]
    },
    {
      "cell_type": "code",
      "metadata": {
        "colab": {
          "base_uri": "https://localhost:8080/"
        },
        "id": "zQRt_M0gcVd_",
        "outputId": "7bd55a2c-6558-47a4-84ba-639ff97211b6"
      },
      "source": [
        "#Dimensões\n",
        "data.shape"
      ],
      "execution_count": null,
      "outputs": [
        {
          "output_type": "execute_result",
          "data": {
            "text/plain": [
              "(756, 755)"
            ]
          },
          "metadata": {
            "tags": []
          },
          "execution_count": 5
        }
      ]
    },
    {
      "cell_type": "markdown",
      "metadata": {
        "id": "3hV6IIfNcbI0"
      },
      "source": [
        "A base de dados contém 756 linhas e 755 colunas."
      ]
    },
    {
      "cell_type": "markdown",
      "metadata": {
        "id": "03U_It-sHODZ"
      },
      "source": [
        "**Verificação de dados ausentes e duplicados**\n",
        "\n",
        "\n",
        "---\n",
        "\n"
      ]
    },
    {
      "cell_type": "code",
      "metadata": {
        "id": "7DuW2ydbHS75"
      },
      "source": [
        "#Remove colunas duplicadas se existirem\n",
        "data = data.loc[:,~data.columns.duplicated()]"
      ],
      "execution_count": null,
      "outputs": []
    },
    {
      "cell_type": "code",
      "metadata": {
        "id": "UArlYLh43c0b"
      },
      "source": [
        "#remove dados ausentes se existirem\n",
        "data.dropna(inplace = True)"
      ],
      "execution_count": null,
      "outputs": []
    },
    {
      "cell_type": "code",
      "metadata": {
        "id": "YLXkMpylH1BL",
        "colab": {
          "base_uri": "https://localhost:8080/"
        },
        "outputId": "80ecaa4d-3408-40ed-b391-bbaa630a0ebd"
      },
      "source": [
        "data.shape"
      ],
      "execution_count": null,
      "outputs": [
        {
          "output_type": "execute_result",
          "data": {
            "text/plain": [
              "(756, 755)"
            ]
          },
          "metadata": {
            "tags": []
          },
          "execution_count": 8
        }
      ]
    },
    {
      "cell_type": "markdown",
      "metadata": {
        "id": "w6Wa6CZ-Bqrd"
      },
      "source": [
        "A base de dados não possui datos ausentes e duplicados"
      ]
    },
    {
      "cell_type": "markdown",
      "metadata": {
        "id": "FmfYk6H6IWDj"
      },
      "source": [
        "**Resumo dos dados**\n",
        "\n",
        "\n",
        "---\n",
        "\n"
      ]
    },
    {
      "cell_type": "code",
      "metadata": {
        "colab": {
          "base_uri": "https://localhost:8080/",
          "height": 346
        },
        "id": "DkrrTtIHcTd5",
        "outputId": "656872b6-e4ad-456c-8101-877913984324"
      },
      "source": [
        "data.describe()"
      ],
      "execution_count": null,
      "outputs": [
        {
          "output_type": "execute_result",
          "data": {
            "text/html": [
              "<div>\n",
              "<style scoped>\n",
              "    .dataframe tbody tr th:only-of-type {\n",
              "        vertical-align: middle;\n",
              "    }\n",
              "\n",
              "    .dataframe tbody tr th {\n",
              "        vertical-align: top;\n",
              "    }\n",
              "\n",
              "    .dataframe thead th {\n",
              "        text-align: right;\n",
              "    }\n",
              "</style>\n",
              "<table border=\"1\" class=\"dataframe\">\n",
              "  <thead>\n",
              "    <tr style=\"text-align: right;\">\n",
              "      <th></th>\n",
              "      <th>id</th>\n",
              "      <th>gender</th>\n",
              "      <th>PPE</th>\n",
              "      <th>DFA</th>\n",
              "      <th>RPDE</th>\n",
              "      <th>numPulses</th>\n",
              "      <th>numPeriodsPulses</th>\n",
              "      <th>meanPeriodPulses</th>\n",
              "      <th>stdDevPeriodPulses</th>\n",
              "      <th>locPctJitter</th>\n",
              "      <th>locAbsJitter</th>\n",
              "      <th>rapJitter</th>\n",
              "      <th>ppq5Jitter</th>\n",
              "      <th>ddpJitter</th>\n",
              "      <th>locShimmer</th>\n",
              "      <th>locDbShimmer</th>\n",
              "      <th>apq3Shimmer</th>\n",
              "      <th>apq5Shimmer</th>\n",
              "      <th>apq11Shimmer</th>\n",
              "      <th>ddaShimmer</th>\n",
              "      <th>meanAutoCorrHarmonicity</th>\n",
              "      <th>meanNoiseToHarmHarmonicity</th>\n",
              "      <th>meanHarmToNoiseHarmonicity</th>\n",
              "      <th>minIntensity</th>\n",
              "      <th>maxIntensity</th>\n",
              "      <th>meanIntensity</th>\n",
              "      <th>f1</th>\n",
              "      <th>f2</th>\n",
              "      <th>f3</th>\n",
              "      <th>f4</th>\n",
              "      <th>b1</th>\n",
              "      <th>b2</th>\n",
              "      <th>b3</th>\n",
              "      <th>b4</th>\n",
              "      <th>GQ_prc5_95</th>\n",
              "      <th>GQ_std_cycle_open</th>\n",
              "      <th>GQ_std_cycle_closed</th>\n",
              "      <th>GNE_mean</th>\n",
              "      <th>GNE_std</th>\n",
              "      <th>GNE_SNR_TKEO</th>\n",
              "      <th>...</th>\n",
              "      <th>tqwt_skewnessValue_dec_34</th>\n",
              "      <th>tqwt_skewnessValue_dec_35</th>\n",
              "      <th>tqwt_skewnessValue_dec_36</th>\n",
              "      <th>tqwt_kurtosisValue_dec_1</th>\n",
              "      <th>tqwt_kurtosisValue_dec_2</th>\n",
              "      <th>tqwt_kurtosisValue_dec_3</th>\n",
              "      <th>tqwt_kurtosisValue_dec_4</th>\n",
              "      <th>tqwt_kurtosisValue_dec_5</th>\n",
              "      <th>tqwt_kurtosisValue_dec_6</th>\n",
              "      <th>tqwt_kurtosisValue_dec_7</th>\n",
              "      <th>tqwt_kurtosisValue_dec_8</th>\n",
              "      <th>tqwt_kurtosisValue_dec_9</th>\n",
              "      <th>tqwt_kurtosisValue_dec_10</th>\n",
              "      <th>tqwt_kurtosisValue_dec_11</th>\n",
              "      <th>tqwt_kurtosisValue_dec_12</th>\n",
              "      <th>tqwt_kurtosisValue_dec_13</th>\n",
              "      <th>tqwt_kurtosisValue_dec_14</th>\n",
              "      <th>tqwt_kurtosisValue_dec_15</th>\n",
              "      <th>tqwt_kurtosisValue_dec_16</th>\n",
              "      <th>tqwt_kurtosisValue_dec_17</th>\n",
              "      <th>tqwt_kurtosisValue_dec_18</th>\n",
              "      <th>tqwt_kurtosisValue_dec_19</th>\n",
              "      <th>tqwt_kurtosisValue_dec_20</th>\n",
              "      <th>tqwt_kurtosisValue_dec_21</th>\n",
              "      <th>tqwt_kurtosisValue_dec_22</th>\n",
              "      <th>tqwt_kurtosisValue_dec_23</th>\n",
              "      <th>tqwt_kurtosisValue_dec_24</th>\n",
              "      <th>tqwt_kurtosisValue_dec_25</th>\n",
              "      <th>tqwt_kurtosisValue_dec_26</th>\n",
              "      <th>tqwt_kurtosisValue_dec_27</th>\n",
              "      <th>tqwt_kurtosisValue_dec_28</th>\n",
              "      <th>tqwt_kurtosisValue_dec_29</th>\n",
              "      <th>tqwt_kurtosisValue_dec_30</th>\n",
              "      <th>tqwt_kurtosisValue_dec_31</th>\n",
              "      <th>tqwt_kurtosisValue_dec_32</th>\n",
              "      <th>tqwt_kurtosisValue_dec_33</th>\n",
              "      <th>tqwt_kurtosisValue_dec_34</th>\n",
              "      <th>tqwt_kurtosisValue_dec_35</th>\n",
              "      <th>tqwt_kurtosisValue_dec_36</th>\n",
              "      <th>class</th>\n",
              "    </tr>\n",
              "  </thead>\n",
              "  <tbody>\n",
              "    <tr>\n",
              "      <th>count</th>\n",
              "      <td>756.000000</td>\n",
              "      <td>756.000000</td>\n",
              "      <td>756.000000</td>\n",
              "      <td>756.000000</td>\n",
              "      <td>756.000000</td>\n",
              "      <td>756.000000</td>\n",
              "      <td>756.000000</td>\n",
              "      <td>756.000000</td>\n",
              "      <td>756.000000</td>\n",
              "      <td>756.000000</td>\n",
              "      <td>7.560000e+02</td>\n",
              "      <td>756.000000</td>\n",
              "      <td>756.000000</td>\n",
              "      <td>756.000000</td>\n",
              "      <td>756.000000</td>\n",
              "      <td>756.000000</td>\n",
              "      <td>756.000000</td>\n",
              "      <td>756.000000</td>\n",
              "      <td>756.000000</td>\n",
              "      <td>756.000000</td>\n",
              "      <td>756.000000</td>\n",
              "      <td>756.000000</td>\n",
              "      <td>756.000000</td>\n",
              "      <td>756.000000</td>\n",
              "      <td>756.000000</td>\n",
              "      <td>756.000000</td>\n",
              "      <td>756.000000</td>\n",
              "      <td>756.000000</td>\n",
              "      <td>7.560000e+02</td>\n",
              "      <td>756.000000</td>\n",
              "      <td>756.000000</td>\n",
              "      <td>756.000000</td>\n",
              "      <td>756.000000</td>\n",
              "      <td>756.000000</td>\n",
              "      <td>756.000000</td>\n",
              "      <td>756.000000</td>\n",
              "      <td>756.000000</td>\n",
              "      <td>756.000000</td>\n",
              "      <td>756.000000</td>\n",
              "      <td>756.000000</td>\n",
              "      <td>...</td>\n",
              "      <td>756.000000</td>\n",
              "      <td>756.000000</td>\n",
              "      <td>756.000000</td>\n",
              "      <td>7.560000e+02</td>\n",
              "      <td>7.560000e+02</td>\n",
              "      <td>7.560000e+02</td>\n",
              "      <td>7.560000e+02</td>\n",
              "      <td>7.560000e+02</td>\n",
              "      <td>7.560000e+02</td>\n",
              "      <td>756.000000</td>\n",
              "      <td>756.000000</td>\n",
              "      <td>756.000000</td>\n",
              "      <td>756.000000</td>\n",
              "      <td>756.000000</td>\n",
              "      <td>756.000000</td>\n",
              "      <td>756.000000</td>\n",
              "      <td>756.000000</td>\n",
              "      <td>756.000000</td>\n",
              "      <td>756.000000</td>\n",
              "      <td>756.000000</td>\n",
              "      <td>756.000000</td>\n",
              "      <td>756.000000</td>\n",
              "      <td>756.000000</td>\n",
              "      <td>756.000000</td>\n",
              "      <td>756.000000</td>\n",
              "      <td>756.000000</td>\n",
              "      <td>756.000000</td>\n",
              "      <td>756.000000</td>\n",
              "      <td>756.000000</td>\n",
              "      <td>756.000000</td>\n",
              "      <td>756.000000</td>\n",
              "      <td>756.000000</td>\n",
              "      <td>756.000000</td>\n",
              "      <td>756.000000</td>\n",
              "      <td>756.000000</td>\n",
              "      <td>756.000000</td>\n",
              "      <td>756.000000</td>\n",
              "      <td>756.000000</td>\n",
              "      <td>756.000000</td>\n",
              "      <td>756.000000</td>\n",
              "    </tr>\n",
              "    <tr>\n",
              "      <th>mean</th>\n",
              "      <td>125.500000</td>\n",
              "      <td>0.515873</td>\n",
              "      <td>6.477320</td>\n",
              "      <td>10.788200</td>\n",
              "      <td>4.140165</td>\n",
              "      <td>323.972222</td>\n",
              "      <td>322.678571</td>\n",
              "      <td>0.006360</td>\n",
              "      <td>0.000383</td>\n",
              "      <td>0.038003</td>\n",
              "      <td>1.673391e-05</td>\n",
              "      <td>0.001926</td>\n",
              "      <td>0.007766</td>\n",
              "      <td>0.004458</td>\n",
              "      <td>0.907902</td>\n",
              "      <td>555.700241</td>\n",
              "      <td>0.240518</td>\n",
              "      <td>0.201068</td>\n",
              "      <td>0.400259</td>\n",
              "      <td>1.149697</td>\n",
              "      <td>0.961508</td>\n",
              "      <td>0.118524</td>\n",
              "      <td>17218.536918</td>\n",
              "      <td>70.828609</td>\n",
              "      <td>76.135371</td>\n",
              "      <td>73.997008</td>\n",
              "      <td>647.174519</td>\n",
              "      <td>1233.852088</td>\n",
              "      <td>5.500817e+03</td>\n",
              "      <td>3547.259244</td>\n",
              "      <td>213.363237</td>\n",
              "      <td>297.174077</td>\n",
              "      <td>1503.957463</td>\n",
              "      <td>506.604856</td>\n",
              "      <td>2.344780</td>\n",
              "      <td>1956.200689</td>\n",
              "      <td>363.446019</td>\n",
              "      <td>62.920824</td>\n",
              "      <td>2.160181</td>\n",
              "      <td>1.175547</td>\n",
              "      <td>...</td>\n",
              "      <td>-22.268268</td>\n",
              "      <td>-16.167437</td>\n",
              "      <td>-7.318027</td>\n",
              "      <td>1.434752e+05</td>\n",
              "      <td>5.049594e+04</td>\n",
              "      <td>4.796108e+04</td>\n",
              "      <td>2.331095e+04</td>\n",
              "      <td>3.905103e+04</td>\n",
              "      <td>1.570366e+04</td>\n",
              "      <td>2779.135448</td>\n",
              "      <td>620.820585</td>\n",
              "      <td>757.566137</td>\n",
              "      <td>740.803302</td>\n",
              "      <td>1551.623888</td>\n",
              "      <td>690.541830</td>\n",
              "      <td>369.622722</td>\n",
              "      <td>316.724956</td>\n",
              "      <td>326.297468</td>\n",
              "      <td>324.896793</td>\n",
              "      <td>279.699285</td>\n",
              "      <td>244.404551</td>\n",
              "      <td>298.273314</td>\n",
              "      <td>218.122180</td>\n",
              "      <td>186.051256</td>\n",
              "      <td>178.702182</td>\n",
              "      <td>194.560685</td>\n",
              "      <td>177.050250</td>\n",
              "      <td>279.832097</td>\n",
              "      <td>953.430192</td>\n",
              "      <td>1366.993554</td>\n",
              "      <td>2299.954644</td>\n",
              "      <td>2061.611694</td>\n",
              "      <td>1831.207316</td>\n",
              "      <td>1356.076089</td>\n",
              "      <td>1256.246167</td>\n",
              "      <td>1311.857620</td>\n",
              "      <td>1688.508766</td>\n",
              "      <td>1602.401737</td>\n",
              "      <td>3442.949825</td>\n",
              "      <td>0.746032</td>\n",
              "    </tr>\n",
              "    <tr>\n",
              "      <th>std</th>\n",
              "      <td>72.793721</td>\n",
              "      <td>0.500079</td>\n",
              "      <td>66.637776</td>\n",
              "      <td>83.314468</td>\n",
              "      <td>47.022269</td>\n",
              "      <td>99.219059</td>\n",
              "      <td>99.402499</td>\n",
              "      <td>0.001826</td>\n",
              "      <td>0.000728</td>\n",
              "      <td>0.669008</td>\n",
              "      <td>2.290134e-05</td>\n",
              "      <td>0.036361</td>\n",
              "      <td>0.108923</td>\n",
              "      <td>0.072733</td>\n",
              "      <td>8.519212</td>\n",
              "      <td>405.320191</td>\n",
              "      <td>2.448282</td>\n",
              "      <td>1.876404</td>\n",
              "      <td>4.914508</td>\n",
              "      <td>12.804802</td>\n",
              "      <td>0.064095</td>\n",
              "      <td>1.855941</td>\n",
              "      <td>7545.379907</td>\n",
              "      <td>8.858268</td>\n",
              "      <td>6.446451</td>\n",
              "      <td>7.018006</td>\n",
              "      <td>134.957916</td>\n",
              "      <td>169.090402</td>\n",
              "      <td>8.078104e+04</td>\n",
              "      <td>347.864299</td>\n",
              "      <td>306.976045</td>\n",
              "      <td>450.125488</td>\n",
              "      <td>26609.651642</td>\n",
              "      <td>658.326606</td>\n",
              "      <td>30.369201</td>\n",
              "      <td>10230.676384</td>\n",
              "      <td>2359.835831</td>\n",
              "      <td>266.027940</td>\n",
              "      <td>21.375733</td>\n",
              "      <td>13.048952</td>\n",
              "      <td>...</td>\n",
              "      <td>369.881538</td>\n",
              "      <td>468.096280</td>\n",
              "      <td>1320.334854</td>\n",
              "      <td>1.439133e+06</td>\n",
              "      <td>6.158557e+05</td>\n",
              "      <td>4.999775e+05</td>\n",
              "      <td>3.672092e+05</td>\n",
              "      <td>4.177932e+05</td>\n",
              "      <td>2.479505e+05</td>\n",
              "      <td>21784.710530</td>\n",
              "      <td>3649.098689</td>\n",
              "      <td>4617.243793</td>\n",
              "      <td>4025.701618</td>\n",
              "      <td>25172.284010</td>\n",
              "      <td>3203.672254</td>\n",
              "      <td>1177.699748</td>\n",
              "      <td>1003.543116</td>\n",
              "      <td>1021.096642</td>\n",
              "      <td>1155.896386</td>\n",
              "      <td>854.485228</td>\n",
              "      <td>790.656020</td>\n",
              "      <td>883.968309</td>\n",
              "      <td>682.880430</td>\n",
              "      <td>664.927128</td>\n",
              "      <td>641.506257</td>\n",
              "      <td>641.629954</td>\n",
              "      <td>604.484841</td>\n",
              "      <td>1457.223736</td>\n",
              "      <td>9792.560004</td>\n",
              "      <td>8323.855129</td>\n",
              "      <td>13820.283560</td>\n",
              "      <td>12521.061662</td>\n",
              "      <td>8601.335038</td>\n",
              "      <td>8060.382157</td>\n",
              "      <td>6434.585891</td>\n",
              "      <td>6882.391384</td>\n",
              "      <td>6903.944055</td>\n",
              "      <td>6813.470447</td>\n",
              "      <td>15319.127275</td>\n",
              "      <td>0.435568</td>\n",
              "    </tr>\n",
              "    <tr>\n",
              "      <th>min</th>\n",
              "      <td>0.000000</td>\n",
              "      <td>0.000000</td>\n",
              "      <td>0.041551</td>\n",
              "      <td>0.543500</td>\n",
              "      <td>0.154300</td>\n",
              "      <td>2.000000</td>\n",
              "      <td>1.000000</td>\n",
              "      <td>0.002107</td>\n",
              "      <td>0.000011</td>\n",
              "      <td>0.000210</td>\n",
              "      <td>6.860000e-07</td>\n",
              "      <td>0.000020</td>\n",
              "      <td>0.000050</td>\n",
              "      <td>0.000050</td>\n",
              "      <td>0.006560</td>\n",
              "      <td>0.160000</td>\n",
              "      <td>0.003350</td>\n",
              "      <td>0.004150</td>\n",
              "      <td>0.000370</td>\n",
              "      <td>0.010040</td>\n",
              "      <td>0.589609</td>\n",
              "      <td>0.000618</td>\n",
              "      <td>2.720000</td>\n",
              "      <td>28.651529</td>\n",
              "      <td>44.133492</td>\n",
              "      <td>39.984109</td>\n",
              "      <td>237.149533</td>\n",
              "      <td>761.357661</td>\n",
              "      <td>1.411231e+03</td>\n",
              "      <td>2471.996546</td>\n",
              "      <td>13.525000</td>\n",
              "      <td>16.428803</td>\n",
              "      <td>21.164397</td>\n",
              "      <td>22.842528</td>\n",
              "      <td>0.210530</td>\n",
              "      <td>1.735500</td>\n",
              "      <td>0.000000</td>\n",
              "      <td>0.626550</td>\n",
              "      <td>0.023746</td>\n",
              "      <td>0.050828</td>\n",
              "      <td>...</td>\n",
              "      <td>-3758.000000</td>\n",
              "      <td>-3371.000000</td>\n",
              "      <td>-8991.000000</td>\n",
              "      <td>2.507600e+00</td>\n",
              "      <td>2.844200e+00</td>\n",
              "      <td>2.959600e+00</td>\n",
              "      <td>3.016100e+00</td>\n",
              "      <td>3.152900e+00</td>\n",
              "      <td>2.928800e+00</td>\n",
              "      <td>2.616700</td>\n",
              "      <td>2.580100</td>\n",
              "      <td>2.236500</td>\n",
              "      <td>2.099900</td>\n",
              "      <td>2.132200</td>\n",
              "      <td>1.723900</td>\n",
              "      <td>1.667800</td>\n",
              "      <td>1.703400</td>\n",
              "      <td>1.759300</td>\n",
              "      <td>1.600600</td>\n",
              "      <td>1.572900</td>\n",
              "      <td>1.564400</td>\n",
              "      <td>1.532900</td>\n",
              "      <td>1.525600</td>\n",
              "      <td>1.522400</td>\n",
              "      <td>1.420700</td>\n",
              "      <td>1.527300</td>\n",
              "      <td>1.509800</td>\n",
              "      <td>1.499600</td>\n",
              "      <td>1.482400</td>\n",
              "      <td>1.342700</td>\n",
              "      <td>1.509800</td>\n",
              "      <td>1.531700</td>\n",
              "      <td>1.582900</td>\n",
              "      <td>1.747200</td>\n",
              "      <td>1.789500</td>\n",
              "      <td>1.628700</td>\n",
              "      <td>1.861700</td>\n",
              "      <td>1.955900</td>\n",
              "      <td>2.461700</td>\n",
              "      <td>0.000000</td>\n",
              "    </tr>\n",
              "    <tr>\n",
              "      <th>25%</th>\n",
              "      <td>62.750000</td>\n",
              "      <td>0.000000</td>\n",
              "      <td>0.763575</td>\n",
              "      <td>0.647343</td>\n",
              "      <td>0.387265</td>\n",
              "      <td>251.000000</td>\n",
              "      <td>250.000000</td>\n",
              "      <td>0.005003</td>\n",
              "      <td>0.000049</td>\n",
              "      <td>0.000970</td>\n",
              "      <td>5.260000e-06</td>\n",
              "      <td>0.000150</td>\n",
              "      <td>0.000370</td>\n",
              "      <td>0.000450</td>\n",
              "      <td>0.036290</td>\n",
              "      <td>275.250000</td>\n",
              "      <td>0.017858</td>\n",
              "      <td>0.022055</td>\n",
              "      <td>0.030962</td>\n",
              "      <td>0.053538</td>\n",
              "      <td>0.963341</td>\n",
              "      <td>0.007168</td>\n",
              "      <td>14102.750000</td>\n",
              "      <td>67.248014</td>\n",
              "      <td>73.322769</td>\n",
              "      <td>70.920615</td>\n",
              "      <td>562.879119</td>\n",
              "      <td>1117.316190</td>\n",
              "      <td>2.381659e+03</td>\n",
              "      <td>3288.644496</td>\n",
              "      <td>90.939702</td>\n",
              "      <td>102.856320</td>\n",
              "      <td>152.783110</td>\n",
              "      <td>170.741827</td>\n",
              "      <td>0.824727</td>\n",
              "      <td>10.455375</td>\n",
              "      <td>0.000000</td>\n",
              "      <td>0.890338</td>\n",
              "      <td>0.132857</td>\n",
              "      <td>0.119705</td>\n",
              "      <td>...</td>\n",
              "      <td>-0.405770</td>\n",
              "      <td>-0.476990</td>\n",
              "      <td>-0.948913</td>\n",
              "      <td>9.542525e+00</td>\n",
              "      <td>7.719150e+00</td>\n",
              "      <td>7.071825e+00</td>\n",
              "      <td>6.898725e+00</td>\n",
              "      <td>6.536450e+00</td>\n",
              "      <td>5.733425e+00</td>\n",
              "      <td>4.713500</td>\n",
              "      <td>4.348350</td>\n",
              "      <td>4.093300</td>\n",
              "      <td>3.834350</td>\n",
              "      <td>4.012250</td>\n",
              "      <td>3.160500</td>\n",
              "      <td>2.583525</td>\n",
              "      <td>2.570100</td>\n",
              "      <td>2.538800</td>\n",
              "      <td>2.335200</td>\n",
              "      <td>2.159075</td>\n",
              "      <td>2.064475</td>\n",
              "      <td>2.097475</td>\n",
              "      <td>1.981375</td>\n",
              "      <td>1.818100</td>\n",
              "      <td>1.738475</td>\n",
              "      <td>1.742750</td>\n",
              "      <td>1.673000</td>\n",
              "      <td>1.669525</td>\n",
              "      <td>1.688350</td>\n",
              "      <td>1.885350</td>\n",
              "      <td>2.761150</td>\n",
              "      <td>3.674700</td>\n",
              "      <td>3.531000</td>\n",
              "      <td>3.114925</td>\n",
              "      <td>3.015700</td>\n",
              "      <td>3.176250</td>\n",
              "      <td>3.885600</td>\n",
              "      <td>3.855325</td>\n",
              "      <td>4.119375</td>\n",
              "      <td>0.000000</td>\n",
              "    </tr>\n",
              "    <tr>\n",
              "      <th>50%</th>\n",
              "      <td>125.500000</td>\n",
              "      <td>1.000000</td>\n",
              "      <td>0.809785</td>\n",
              "      <td>0.701785</td>\n",
              "      <td>0.485400</td>\n",
              "      <td>317.000000</td>\n",
              "      <td>316.000000</td>\n",
              "      <td>0.006048</td>\n",
              "      <td>0.000077</td>\n",
              "      <td>0.001510</td>\n",
              "      <td>9.530000e-06</td>\n",
              "      <td>0.000280</td>\n",
              "      <td>0.000650</td>\n",
              "      <td>0.000840</td>\n",
              "      <td>0.056030</td>\n",
              "      <td>466.500000</td>\n",
              "      <td>0.028305</td>\n",
              "      <td>0.033970</td>\n",
              "      <td>0.047660</td>\n",
              "      <td>0.084000</td>\n",
              "      <td>0.984339</td>\n",
              "      <td>0.016272</td>\n",
              "      <td>18701.000000</td>\n",
              "      <td>74.121030</td>\n",
              "      <td>78.581351</td>\n",
              "      <td>76.855313</td>\n",
              "      <td>641.181498</td>\n",
              "      <td>1215.344125</td>\n",
              "      <td>2.617263e+03</td>\n",
              "      <td>3544.012403</td>\n",
              "      <td>141.610973</td>\n",
              "      <td>159.991186</td>\n",
              "      <td>265.964575</td>\n",
              "      <td>307.971279</td>\n",
              "      <td>1.000000</td>\n",
              "      <td>22.860900</td>\n",
              "      <td>0.426255</td>\n",
              "      <td>1.023000</td>\n",
              "      <td>0.185390</td>\n",
              "      <td>0.137865</td>\n",
              "      <td>...</td>\n",
              "      <td>-0.003125</td>\n",
              "      <td>-0.005517</td>\n",
              "      <td>0.048819</td>\n",
              "      <td>3.213305e+01</td>\n",
              "      <td>1.244425e+01</td>\n",
              "      <td>1.137630e+01</td>\n",
              "      <td>1.043315e+01</td>\n",
              "      <td>9.616350e+00</td>\n",
              "      <td>8.161900e+00</td>\n",
              "      <td>6.291350</td>\n",
              "      <td>5.616100</td>\n",
              "      <td>5.116950</td>\n",
              "      <td>4.790350</td>\n",
              "      <td>5.252800</td>\n",
              "      <td>4.106300</td>\n",
              "      <td>3.146400</td>\n",
              "      <td>3.056350</td>\n",
              "      <td>3.008450</td>\n",
              "      <td>2.777850</td>\n",
              "      <td>2.527400</td>\n",
              "      <td>2.420950</td>\n",
              "      <td>2.434250</td>\n",
              "      <td>2.389550</td>\n",
              "      <td>2.212100</td>\n",
              "      <td>2.067200</td>\n",
              "      <td>1.989850</td>\n",
              "      <td>1.885250</td>\n",
              "      <td>1.875400</td>\n",
              "      <td>2.015400</td>\n",
              "      <td>3.493300</td>\n",
              "      <td>7.044350</td>\n",
              "      <td>8.343150</td>\n",
              "      <td>7.065800</td>\n",
              "      <td>5.056450</td>\n",
              "      <td>4.934000</td>\n",
              "      <td>5.428000</td>\n",
              "      <td>8.431300</td>\n",
              "      <td>8.768900</td>\n",
              "      <td>14.564700</td>\n",
              "      <td>1.000000</td>\n",
              "    </tr>\n",
              "    <tr>\n",
              "      <th>75%</th>\n",
              "      <td>188.250000</td>\n",
              "      <td>1.000000</td>\n",
              "      <td>0.834977</td>\n",
              "      <td>0.757798</td>\n",
              "      <td>0.587353</td>\n",
              "      <td>384.250000</td>\n",
              "      <td>383.250000</td>\n",
              "      <td>0.007528</td>\n",
              "      <td>0.000171</td>\n",
              "      <td>0.002553</td>\n",
              "      <td>1.832500e-05</td>\n",
              "      <td>0.000650</td>\n",
              "      <td>0.001260</td>\n",
              "      <td>0.001952</td>\n",
              "      <td>0.087867</td>\n",
              "      <td>756.250000</td>\n",
              "      <td>0.045233</td>\n",
              "      <td>0.053295</td>\n",
              "      <td>0.072328</td>\n",
              "      <td>0.135535</td>\n",
              "      <td>0.992916</td>\n",
              "      <td>0.040061</td>\n",
              "      <td>22520.000000</td>\n",
              "      <td>76.850515</td>\n",
              "      <td>80.402498</td>\n",
              "      <td>78.718785</td>\n",
              "      <td>737.222678</td>\n",
              "      <td>1339.826741</td>\n",
              "      <td>2.832446e+03</td>\n",
              "      <td>3807.332055</td>\n",
              "      <td>234.098376</td>\n",
              "      <td>299.912765</td>\n",
              "      <td>518.822036</td>\n",
              "      <td>557.628796</td>\n",
              "      <td>1.000000</td>\n",
              "      <td>57.978675</td>\n",
              "      <td>6.263475</td>\n",
              "      <td>1.253875</td>\n",
              "      <td>0.267550</td>\n",
              "      <td>0.157762</td>\n",
              "      <td>...</td>\n",
              "      <td>0.373600</td>\n",
              "      <td>0.430125</td>\n",
              "      <td>1.064500</td>\n",
              "      <td>7.152277e+02</td>\n",
              "      <td>4.893555e+01</td>\n",
              "      <td>5.899892e+01</td>\n",
              "      <td>3.953943e+01</td>\n",
              "      <td>2.741222e+01</td>\n",
              "      <td>1.900887e+01</td>\n",
              "      <td>12.707625</td>\n",
              "      <td>8.663250</td>\n",
              "      <td>7.796800</td>\n",
              "      <td>7.198300</td>\n",
              "      <td>8.535125</td>\n",
              "      <td>7.407700</td>\n",
              "      <td>4.058800</td>\n",
              "      <td>3.925950</td>\n",
              "      <td>3.816350</td>\n",
              "      <td>3.656025</td>\n",
              "      <td>3.269100</td>\n",
              "      <td>3.031050</td>\n",
              "      <td>3.026350</td>\n",
              "      <td>2.932875</td>\n",
              "      <td>2.658150</td>\n",
              "      <td>2.549100</td>\n",
              "      <td>2.481650</td>\n",
              "      <td>2.427200</td>\n",
              "      <td>2.651175</td>\n",
              "      <td>8.304400</td>\n",
              "      <td>30.839825</td>\n",
              "      <td>55.382225</td>\n",
              "      <td>46.975225</td>\n",
              "      <td>37.034525</td>\n",
              "      <td>19.538450</td>\n",
              "      <td>23.434775</td>\n",
              "      <td>22.694775</td>\n",
              "      <td>32.260050</td>\n",
              "      <td>28.818050</td>\n",
              "      <td>78.929525</td>\n",
              "      <td>1.000000</td>\n",
              "    </tr>\n",
              "    <tr>\n",
              "      <th>max</th>\n",
              "      <td>251.000000</td>\n",
              "      <td>1.000000</td>\n",
              "      <td>849.000000</td>\n",
              "      <td>778.000000</td>\n",
              "      <td>806.000000</td>\n",
              "      <td>907.000000</td>\n",
              "      <td>905.000000</td>\n",
              "      <td>0.012966</td>\n",
              "      <td>0.003483</td>\n",
              "      <td>18.000000</td>\n",
              "      <td>2.564800e-04</td>\n",
              "      <td>1.000000</td>\n",
              "      <td>2.000000</td>\n",
              "      <td>2.000000</td>\n",
              "      <td>127.000000</td>\n",
              "      <td>2114.000000</td>\n",
              "      <td>41.000000</td>\n",
              "      <td>29.000000</td>\n",
              "      <td>85.000000</td>\n",
              "      <td>221.000000</td>\n",
              "      <td>0.999382</td>\n",
              "      <td>51.000000</td>\n",
              "      <td>33197.000000</td>\n",
              "      <td>83.908349</td>\n",
              "      <td>86.316176</td>\n",
              "      <td>85.096353</td>\n",
              "      <td>1015.524047</td>\n",
              "      <td>1922.747225</td>\n",
              "      <td>2.223648e+06</td>\n",
              "      <td>4482.258531</td>\n",
              "      <td>4744.875736</td>\n",
              "      <td>4262.170070</td>\n",
              "      <td>731887.000000</td>\n",
              "      <td>5804.342078</td>\n",
              "      <td>775.000000</td>\n",
              "      <td>170147.000000</td>\n",
              "      <td>36149.000000</td>\n",
              "      <td>1591.000000</td>\n",
              "      <td>308.000000</td>\n",
              "      <td>227.000000</td>\n",
              "      <td>...</td>\n",
              "      <td>3446.000000</td>\n",
              "      <td>3484.000000</td>\n",
              "      <td>8846.000000</td>\n",
              "      <td>2.036688e+07</td>\n",
              "      <td>9.482817e+06</td>\n",
              "      <td>7.965757e+06</td>\n",
              "      <td>7.652519e+06</td>\n",
              "      <td>7.370704e+06</td>\n",
              "      <td>5.294876e+06</td>\n",
              "      <td>356034.000000</td>\n",
              "      <td>69846.000000</td>\n",
              "      <td>114128.000000</td>\n",
              "      <td>78065.000000</td>\n",
              "      <td>684873.000000</td>\n",
              "      <td>57756.000000</td>\n",
              "      <td>10694.000000</td>\n",
              "      <td>8687.000000</td>\n",
              "      <td>6462.000000</td>\n",
              "      <td>13543.000000</td>\n",
              "      <td>5894.000000</td>\n",
              "      <td>4542.000000</td>\n",
              "      <td>8051.000000</td>\n",
              "      <td>4114.000000</td>\n",
              "      <td>4774.000000</td>\n",
              "      <td>7343.000000</td>\n",
              "      <td>5001.000000</td>\n",
              "      <td>5754.000000</td>\n",
              "      <td>30541.000000</td>\n",
              "      <td>192467.000000</td>\n",
              "      <td>91761.000000</td>\n",
              "      <td>158358.000000</td>\n",
              "      <td>149001.000000</td>\n",
              "      <td>95785.000000</td>\n",
              "      <td>102207.000000</td>\n",
              "      <td>77303.000000</td>\n",
              "      <td>71419.000000</td>\n",
              "      <td>60638.000000</td>\n",
              "      <td>50656.000000</td>\n",
              "      <td>107837.000000</td>\n",
              "      <td>1.000000</td>\n",
              "    </tr>\n",
              "  </tbody>\n",
              "</table>\n",
              "<p>8 rows × 755 columns</p>\n",
              "</div>"
            ],
            "text/plain": [
              "               id      gender  ...  tqwt_kurtosisValue_dec_36       class\n",
              "count  756.000000  756.000000  ...                 756.000000  756.000000\n",
              "mean   125.500000    0.515873  ...                3442.949825    0.746032\n",
              "std     72.793721    0.500079  ...               15319.127275    0.435568\n",
              "min      0.000000    0.000000  ...                   2.461700    0.000000\n",
              "25%     62.750000    0.000000  ...                   4.119375    0.000000\n",
              "50%    125.500000    1.000000  ...                  14.564700    1.000000\n",
              "75%    188.250000    1.000000  ...                  78.929525    1.000000\n",
              "max    251.000000    1.000000  ...              107837.000000    1.000000\n",
              "\n",
              "[8 rows x 755 columns]"
            ]
          },
          "metadata": {
            "tags": []
          },
          "execution_count": 9
        }
      ]
    },
    {
      "cell_type": "markdown",
      "metadata": {
        "id": "s3Z894b76fOy"
      },
      "source": [
        "A partir da média das variáveis podemos verificar que os dados se encontram em intervalor bem variados."
      ]
    },
    {
      "cell_type": "code",
      "metadata": {
        "colab": {
          "base_uri": "https://localhost:8080/"
        },
        "id": "K49t4S-BzVXM",
        "outputId": "023bc459-6c94-4869-9fb0-0dfc27e4c224"
      },
      "source": [
        "data.info()"
      ],
      "execution_count": null,
      "outputs": [
        {
          "output_type": "stream",
          "text": [
            "<class 'pandas.core.frame.DataFrame'>\n",
            "Int64Index: 756 entries, 0 to 755\n",
            "Columns: 755 entries, id to class\n",
            "dtypes: float64(749), int64(6)\n",
            "memory usage: 4.4 MB\n"
          ],
          "name": "stdout"
        }
      ]
    },
    {
      "cell_type": "markdown",
      "metadata": {
        "id": "fO6REv7q8jdy"
      },
      "source": [
        "A base de dados é toda numérica, contendo 749 atributos do tipo float e 6 no tipo int."
      ]
    },
    {
      "cell_type": "markdown",
      "metadata": {
        "id": "Y5cKplEFIfGy"
      },
      "source": [
        "**Distribuição de dados entre as classes**\n",
        "\n",
        "\n",
        "---\n",
        "\n"
      ]
    },
    {
      "cell_type": "code",
      "metadata": {
        "colab": {
          "base_uri": "https://localhost:8080/",
          "height": 296
        },
        "id": "HwzRC78qzvp-",
        "outputId": "089b1d5f-b076-44c8-8e22-99061c4d095a"
      },
      "source": [
        "import matplotlib.pyplot as plt\n",
        "import seaborn as sns\n",
        "%matplotlib inline\n",
        "import plotly.express as px\n",
        "\n",
        "sns.countplot(data=data,x = 'class',palette='plasma')"
      ],
      "execution_count": null,
      "outputs": [
        {
          "output_type": "execute_result",
          "data": {
            "text/plain": [
              "<matplotlib.axes._subplots.AxesSubplot at 0x7f79f4d11a10>"
            ]
          },
          "metadata": {
            "tags": []
          },
          "execution_count": 11
        },
        {
          "output_type": "display_data",
          "data": {
            "image/png": "[encoded data removed]",
            "text/plain": [
              "<Figure size 432x288 with 1 Axes>"
            ]
          },
          "metadata": {
            "tags": [],
            "needs_background": "light"
          }
        }
      ]
    },
    {
      "cell_type": "markdown",
      "metadata": {
        "id": "QhLyjOFKz5Ir"
      },
      "source": [
        "A partir da visualização da distribuição dos dados de saída (target), percebe-se que os dados estão debalanceados, ou seja, a quantidade de dados da classe 1 é o dobro da classe 0."
      ]
    },
    {
      "cell_type": "markdown",
      "metadata": {
        "id": "OjfVkRAbLUyC"
      },
      "source": [
        "###**Pré-processamento**"
      ]
    },
    {
      "cell_type": "markdown",
      "metadata": {
        "id": "70sZe-E4WA0w"
      },
      "source": [
        "**Normalização**\n",
        "\n",
        "\n",
        "---\n",
        "\n",
        "\n",
        "MinMaxScaler"
      ]
    },
    {
      "cell_type": "code",
      "metadata": {
        "id": "xJ8Jm9mNWAMA"
      },
      "source": [
        "#Normalização MimMax\n",
        "from sklearn.preprocessing import MinMaxScaler\n",
        "\n",
        "min_max_scaler = MinMaxScaler()\n",
        "data_n = min_max_scaler.fit_transform(data)"
      ],
      "execution_count": null,
      "outputs": []
    },
    {
      "cell_type": "markdown",
      "metadata": {
        "id": "nSgKfKJu8JSi"
      },
      "source": [
        "**Definição das entradas e saídas**\n",
        "\n",
        "\n",
        "---\n",
        "\n"
      ]
    },
    {
      "cell_type": "code",
      "metadata": {
        "colab": {
          "base_uri": "https://localhost:8080/"
        },
        "id": "PySdee5OZPkd",
        "outputId": "fc0ae22b-4f9b-4fee-cf59-2483fff66a8b"
      },
      "source": [
        "#Entradas e saídas\n",
        "X = data_n[:, :(data_n.shape[1]-1)]   \n",
        "y = data_n[:, data_n.shape[1]-1:]\n",
        "\n",
        "print(\"Definição das entradas de saídas \")\n",
        "print(f\"Entradas:{X.shape[1]}\\nSaídas: {y.shape[1]}\\n\")"
      ],
      "execution_count": null,
      "outputs": [
        {
          "output_type": "stream",
          "text": [
            "Definição das entradas de saídas \n",
            "Entradas:754\n",
            "Saídas: 1\n",
            "\n"
          ],
          "name": "stdout"
        }
      ]
    },
    {
      "cell_type": "markdown",
      "metadata": {
        "id": "1IrRdEvG3wnl"
      },
      "source": [
        "**Balanceamento**\n",
        "\n",
        "\n",
        "---\n",
        "\n",
        "\n",
        "\n",
        "Smote – Consiste em gerar dados sintéticos (não duplicados) da classe minoritária a partir de vizinhos.\n",
        "\n",
        "https://minerandodados.com.br/lidando-com-classes-desbalanceadas-machine-learning/"
      ]
    },
    {
      "cell_type": "code",
      "metadata": {
        "colab": {
          "base_uri": "https://localhost:8080/",
          "height": 421
        },
        "id": "GHNzUBmk7HNT",
        "outputId": "2d614195-08fa-4e0e-b24b-1521bd46e747"
      },
      "source": [
        "# Desativando os avisos sobre as bibliotecas depreciadas:\n",
        "import warnings\n",
        "warnings.filterwarnings(\"ignore\", category=DeprecationWarning)\n",
        "\n",
        "from imblearn.over_sampling import SMOTE\n",
        "#from imblearn.under_sampling import NearMiss\n",
        "import seaborn as sns\n",
        "\n",
        "smt = SMOTE()\n",
        "\n",
        "X, y = smt.fit_sample(X, y)\n",
        "\n",
        "\n",
        "\n",
        "#sns.countplot(data=data,x=y,palette='plasma')\n",
        "ax = sns.countplot(x=y)\n",
        "#y.shape"
      ],
      "execution_count": null,
      "outputs": [
        {
          "output_type": "stream",
          "text": [
            "/usr/local/lib/python3.7/dist-packages/sklearn/externals/six.py:31: FutureWarning: The module is deprecated in version 0.21 and will be removed in version 0.23 since we've dropped support for Python 2.7. Please rely on the official version of six (https://pypi.org/project/six/).\n",
            "  \"(https://pypi.org/project/six/).\", FutureWarning)\n",
            "/usr/local/lib/python3.7/dist-packages/sklearn/utils/deprecation.py:144: FutureWarning: The sklearn.neighbors.base module is  deprecated in version 0.22 and will be removed in version 0.24. The corresponding classes / functions should instead be imported from sklearn.neighbors. Anything that cannot be imported from sklearn.neighbors is now part of the private API.\n",
            "  warnings.warn(message, FutureWarning)\n",
            "/usr/local/lib/python3.7/dist-packages/sklearn/utils/validation.py:760: DataConversionWarning: A column-vector y was passed when a 1d array was expected. Please change the shape of y to (n_samples, ), for example using ravel().\n",
            "  y = column_or_1d(y, warn=True)\n",
            "/usr/local/lib/python3.7/dist-packages/sklearn/utils/deprecation.py:87: FutureWarning: Function safe_indexing is deprecated; safe_indexing is deprecated in version 0.22 and will be removed in version 0.24.\n",
            "  warnings.warn(msg, category=FutureWarning)\n"
          ],
          "name": "stderr"
        },
        {
          "output_type": "display_data",
          "data": {
            "image/png": "[encoded data removed]",
            "text/plain": [
              "<Figure size 432x288 with 1 Axes>"
            ]
          },
          "metadata": {
            "tags": [],
            "needs_background": "light"
          }
        }
      ]
    },
    {
      "cell_type": "code",
      "metadata": {
        "colab": {
          "base_uri": "https://localhost:8080/"
        },
        "id": "8mCI7BFeAESq",
        "outputId": "3983cea4-c450-4e37-9f34-b4ab291708a1"
      },
      "source": [
        "print('---------------- Entradas e saídas pós-balanceamento-------------------')\n",
        "print(f'Entradas: {X.shape[0]}')\n",
        "print(f'Saídas:  {y.shape[0]}')"
      ],
      "execution_count": null,
      "outputs": [
        {
          "output_type": "stream",
          "text": [
            "---------------- Entradas e saídas pós-balanceamento-------------------\n",
            "Entradas: 1128\n",
            "Saídas:  1128\n"
          ],
          "name": "stdout"
        }
      ]
    },
    {
      "cell_type": "markdown",
      "metadata": {
        "id": "bzeI-UK0IFqQ"
      },
      "source": [
        "**Redução de dimensionalidade**\n",
        "\n"
      ]
    },
    {
      "cell_type": "code",
      "metadata": {
        "id": "g3DomD4GIEzc"
      },
      "source": [
        "#from sklearn.decomposition import PCA\n",
        "#pca=PCA(n_components=100)\n",
        "#train_x=pca.fit_transform(train_x)\n",
        "#test_x=pca.transform(test_x)\n",
        "\n",
        "#train_x.shape"
      ],
      "execution_count": null,
      "outputs": []
    },
    {
      "cell_type": "markdown",
      "metadata": {
        "id": "id1khz7s9WCT"
      },
      "source": [
        "**Divisão do conjunto em treinamento e teste**\n",
        "\n",
        "\n",
        "---\n",
        "\n"
      ]
    },
    {
      "cell_type": "code",
      "metadata": {
        "colab": {
          "base_uri": "https://localhost:8080/"
        },
        "id": "QmJK2_4f78xZ",
        "outputId": "b5f0a781-67b8-413b-ea37-e15a8185f31f"
      },
      "source": [
        "#Separação dos dados em conjunto de treinamento e teste\n",
        "from sklearn.model_selection import train_test_split\n",
        "\n",
        "train_x, test_x, train_y, test_y = train_test_split(X,y, test_size=0.25) \n",
        "\n",
        "print('Conjuntos de treinamento e teste separados!')\n",
        "print(f'São {train_x.shape[0]} amostras para o treinamento e {test_x.shape[0]} para teste.')"
      ],
      "execution_count": null,
      "outputs": [
        {
          "output_type": "stream",
          "text": [
            "Conjuntos de treinamento e teste separados!\n",
            "São 846 amostras para o treinamento e 282 para teste.\n"
          ],
          "name": "stdout"
        }
      ]
    },
    {
      "cell_type": "markdown",
      "metadata": {
        "id": "ocJYprQgDQyF"
      },
      "source": [
        "###**Treinamento**"
      ]
    },
    {
      "cell_type": "markdown",
      "metadata": {
        "id": "gyg9J9mDbNAX"
      },
      "source": [
        "**Avaliação e seleção de modelos**\n",
        "\n",
        "\n",
        "---\n",
        "Serão testadas diferentes quantidades de neurônios  utilizando a validação cruzada - método k-fold para seleção do melhor modelo\n"
      ]
    },
    {
      "cell_type": "code",
      "metadata": {
        "colab": {
          "base_uri": "https://localhost:8080/"
        },
        "id": "k_oZk7-vbMcL",
        "outputId": "cb94453f-69e3-4833-dfd1-796be7e4110e"
      },
      "source": [
        "#Bibliotecas\n",
        "from sklearn.neural_network import MLPClassifier\n",
        "from sklearn.model_selection import KFold\n",
        "from sklearn.model_selection import cross_val_score\n",
        "from sklearn.metrics import accuracy_score\n",
        "import numpy as np\n",
        "import warnings\n",
        "warnings.filterwarnings(\"ignore\") # ignorando warnings da MLP\n",
        "\n",
        "#Definição do número de neurônios e camadas ocultas a serem testadas\n",
        "neurons = [(377),(188),(94),(47), (23),(11)]  #Dividi a média por 2\n",
        "actv_funcs = ['logistic']#, 'tanh']\n",
        "\n",
        "hp = []\n",
        "val_scores = []\n",
        "\n",
        "#Preparação do procedimento de validação cruzada\n",
        "cv = KFold(n_splits=5)\n",
        "\n",
        "print('AC.VAL.  | TOPOLOGIA ')\n",
        "\n",
        "# loop de otimização\n",
        "for neurons in neurons: \n",
        "  for actv_func in actv_funcs:\n",
        "    model = MLPClassifier(neurons,activation=actv_func, max_iter=1000, alpha=0.01,\n",
        "                        solver='sgd', learning_rate_init=0.1, momentum=0.9, learning_rate='adaptive', \n",
        "                        random_state=32, verbose=0)\n",
        "  \n",
        "    vs = cross_val_score(model, train_x, train_y, cv=cv) #validação kfld\n",
        "        \n",
        "        \n",
        "    val_acc = np.mean(vs) #média dos valores kfold\n",
        "    val_scores.append(val_acc)\n",
        "      \n",
        "    hp.append([neurons,actv_func])\n",
        "    print('{:.4}      {}'.format(val_acc,[neurons,actv_func]))\n",
        "\n",
        "\n",
        "print('\\n\\n------------------ RESULTADO -------------------------------')\n",
        "\n",
        "best_i = np.argmax(val_scores)                                                                                                                                                                                                                                                                                                                          \n",
        "print('\\nMelhor modelo: ', best_i, hp[best_i])\n",
        "print('Acurácia do Conjunto de Validação: {:.4}%'.format(val_scores[best_i]*100))"
      ],
      "execution_count": null,
      "outputs": [
        {
          "output_type": "stream",
          "text": [
            "AC.VAL.  | TOPOLOGIA \n",
            "0.8546      [377, 'logistic']\n",
            "0.8523      [188, 'logistic']\n",
            "0.8546      [94, 'logistic']\n",
            "0.8499      [47, 'logistic']\n",
            "0.8511      [23, 'logistic']\n",
            "0.8594      [11, 'logistic']\n",
            "\n",
            "\n",
            "------------------ RESULTADO -------------------------------\n",
            "\n",
            "Melhor modelo:  5 [11, 'logistic']\n",
            "Acurácia do Conjunto de Validação: 85.94%\n"
          ],
          "name": "stdout"
        }
      ]
    },
    {
      "cell_type": "markdown",
      "metadata": {
        "id": "30JObkbrvXgs"
      },
      "source": [
        "**Confirmação da Acurácia**\n",
        "\n",
        "Treinamento do modelo por 30 vezes gerando uma nova organização de dados a cada iteração"
      ]
    },
    {
      "cell_type": "code",
      "metadata": {
        "id": "HSOLKnRjo5UO",
        "colab": {
          "base_uri": "https://localhost:8080/"
        },
        "outputId": "e6790864-9c0a-4044-f221-68ab68b9e0ac"
      },
      "source": [
        "#listas para armazenamento das acurácias\n",
        "acc_train = []\n",
        "acc_test = []\n",
        "\n",
        "for c in range(1,30):\n",
        "  train_x, test_x, train_y, test_y = train_test_split(X,y, test_size=0.25) \n",
        "\n",
        "  model = MLPClassifier(hp[best_i][0],activation=hp[best_i][1], max_iter=1000, alpha=0.1,\n",
        "                      solver='sgd', learning_rate_init=0.1, momentum=0.9, learning_rate='adaptive', random_state=32, verbose=0 )\n",
        "      \n",
        "  model = model.fit(train_x, train_y)\n",
        "\n",
        "  #Avaliação conjunto de treinamento\n",
        "  train_y_pred = model.predict(train_x)\n",
        "  acc_train.append(accuracy_score(train_y, train_y_pred))\n",
        "\n",
        "  #Avaliação Conjunto de Teste\n",
        "  test_y_pred = model.predict(test_x)\n",
        "  acc_test.append(accuracy_score(test_y, test_y_pred))\n",
        "\n",
        "print('Treinamento Finalizado!')"
      ],
      "execution_count": null,
      "outputs": [
        {
          "output_type": "stream",
          "text": [
            "Treinamento Finalizado!\n"
          ],
          "name": "stdout"
        }
      ]
    },
    {
      "cell_type": "code",
      "metadata": {
        "colab": {
          "base_uri": "https://localhost:8080/"
        },
        "id": "fq-na7vEtjpQ",
        "outputId": "0e029ae0-33be-4732-89e9-0156ff1529f1"
      },
      "source": [
        "print('----------------- ANÁLISE DO CONJUNTO DE TREINAMENTO -----------------------\\n')\n",
        "acc_train_mean = np.mean(acc_train)\n",
        "acc_std = np.std(acc_train)\n",
        "print('Acurácia no Conjunto de Treinamento: {:.4}%\\n'.format(acc_train_mean*100))\n",
        "print('Desvio Padrão do Conjunto de Treinamento: {:.5}\\n'.format(acc_std))\n",
        "\n",
        "\n",
        "print('\\n----------------- ANÁLISE DO CONJUNTO DE TESTE ----------------------------\\n')\n",
        "\n",
        "acc_test_mean = np.mean(acc_test)\n",
        "acc_std_test = np.std(acc_test)\n",
        "print('Acurácia no Conjunto de Teste: {:.4}%\\n'.format(acc_test_mean*100))\n",
        "print('Desvio Padrão do Conjunto de Teste: {:.8}\\n'.format(acc_std_test))"
      ],
      "execution_count": null,
      "outputs": [
        {
          "output_type": "stream",
          "text": [
            "----------------- ANÁLISE DO CONJUNTO DE TREINAMENTO -----------------------\n",
            "\n",
            "Acurácia no Conjunto de Treinamento: 98.08%\n",
            "\n",
            "Desvio Padrão do Conjunto de Treinamento: 0.0061432\n",
            "\n",
            "\n",
            "----------------- ANÁLISE DO CONJUNTO DE TESTE ----------------------------\n",
            "\n",
            "Acurácia no Conjunto de Teste: 87.08%\n",
            "\n",
            "Desvio Padrão do Conjunto de Teste: 0.01970177\n",
            "\n"
          ],
          "name": "stdout"
        }
      ]
    },
    {
      "cell_type": "markdown",
      "metadata": {
        "id": "0-DtQbiV90_M"
      },
      "source": [
        "**Avaliação do modelo**"
      ]
    },
    {
      "cell_type": "code",
      "metadata": {
        "colab": {
          "base_uri": "https://localhost:8080/",
          "height": 489
        },
        "id": "2Aez7TEXaZnV",
        "outputId": "05818191-5fb7-4925-8585-57aecc8f50f3"
      },
      "source": [
        "#Avaliação do modelo\n",
        "import matplotlib.pyplot as plt\n",
        "import seaborn as sns; sns.set()\n",
        "from sklearn.metrics import confusion_matrix\n",
        "from sklearn.metrics import classification_report\n",
        "\n",
        "print('----------------- ANÁLISE DO CONJUNTO DE TREINAMENTO -----------------------\\n')\n",
        "\n",
        "train_y_pred = model.predict(train_x)\n",
        "print(classification_report(train_y, train_y_pred)) # mostra relatório\n",
        "acc_train = accuracy_score(train_y, train_y_pred)\n",
        "#acc_std = np.std(acc_train)\n",
        "#print('Acurácia no Conjunto de Treinamento: {:.4}%\\n'.format(acc_train*100))\n",
        "#print('Desvio Padrão do Conjunto de Treinamento: {:.8}\\n'.format(acc_std))\n",
        "cm=confusion_matrix(train_y, train_y_pred)\n",
        "print(cm)\n",
        "sns.heatmap(cm,annot=True)\n",
        "plt.show()\n"
      ],
      "execution_count": null,
      "outputs": [
        {
          "output_type": "stream",
          "text": [
            "----------------- ANÁLISE DO CONJUNTO DE TREINAMENTO -----------------------\n",
            "\n",
            "              precision    recall  f1-score   support\n",
            "\n",
            "         0.0       0.97      0.98      0.97       415\n",
            "         1.0       0.98      0.97      0.97       431\n",
            "\n",
            "    accuracy                           0.97       846\n",
            "   macro avg       0.97      0.97      0.97       846\n",
            "weighted avg       0.97      0.97      0.97       846\n",
            "\n",
            "[[405  10]\n",
            " [ 14 417]]\n"
          ],
          "name": "stdout"
        },
        {
          "output_type": "display_data",
          "data": {
            "image/png": "[encoded data removed]",
            "text/plain": [
              "<Figure size 432x288 with 2 Axes>"
            ]
          },
          "metadata": {
            "tags": []
          }
        }
      ]
    },
    {
      "cell_type": "code",
      "metadata": {
        "colab": {
          "base_uri": "https://localhost:8080/",
          "height": 506
        },
        "id": "KCPCQytgFG0y",
        "outputId": "16a51124-e945-473b-b8bd-87732f7bb16a"
      },
      "source": [
        "print('\\n----------------- ANÁLISE DO CONJUNTO DE TESTE ----------------------------\\n')\n",
        "\n",
        "test_y_pred = model.predict(test_x)\n",
        "print(classification_report(test_y, test_y_pred))\n",
        "acc_test = accuracy_score(test_y, test_y_pred)\n",
        "#acc_std = np.std(acc_test)\n",
        "#print('Acurácia no Conjunto de Teste: {:.4}%\\n'.format(acc_test*100))\n",
        "#print('Desvio Padrão do Conjunto de Teste: {:.8}\\n'.format(acc_std))\n",
        "cm=confusion_matrix(test_y, test_y_pred)\n",
        "print(cm)\n",
        "sns.heatmap(cm,annot=True)\n",
        "plt.show()"
      ],
      "execution_count": null,
      "outputs": [
        {
          "output_type": "stream",
          "text": [
            "\n",
            "----------------- ANÁLISE DO CONJUNTO DE TESTE ----------------------------\n",
            "\n",
            "              precision    recall  f1-score   support\n",
            "\n",
            "         0.0       0.85      0.87      0.86       149\n",
            "         1.0       0.85      0.83      0.84       133\n",
            "\n",
            "    accuracy                           0.85       282\n",
            "   macro avg       0.85      0.85      0.85       282\n",
            "weighted avg       0.85      0.85      0.85       282\n",
            "\n",
            "[[130  19]\n",
            " [ 23 110]]\n"
          ],
          "name": "stdout"
        },
        {
          "output_type": "display_data",
          "data": {
            "image/png": "[encoded data removed]",
            "text/plain": [
              "<Figure size 432x288 with 2 Axes>"
            ]
          },
          "metadata": {
            "tags": []
          }
        }
      ]
    },
    {
      "cell_type": "code",
      "metadata": {
        "id": "DkksardgIAJU",
        "colab": {
          "base_uri": "https://localhost:8080/",
          "height": 355
        },
        "outputId": "8460dbac-7d10-4cae-9863-5f6ce09d12c5"
      },
      "source": [
        "#Curva_Roc\n",
        "from sklearn.metrics import auc, roc_auc_score, roc_curve\n",
        "\n",
        "def plot_roc_(false_positive_rate,true_positive_rate,roc_auc):\n",
        "    plt.figure(figsize=(5,5))\n",
        "    plt.title('Receiver Operating Characteristic')\n",
        "    plt.plot(false_positive_rate,true_positive_rate, color='red',label = 'AUC = %0.2f' % roc_auc)\n",
        "    plt.legend(loc = 'lower right')\n",
        "    plt.plot([0, 1], [0, 1],linestyle='--')\n",
        "    plt.axis('tight')\n",
        "    plt.ylabel('True Positive Rate')\n",
        "    plt.xlabel('False Positive Rate')\n",
        "    plt.show()\n",
        "\n",
        "\n",
        "roc_auc = 0\n",
        "y_proba=model.predict_proba(test_x)\n",
        "\n",
        "false_positive_rate, true_positive_rate, thresholds = roc_curve(test_y,y_proba[:,1])\n",
        "roc_auc = auc(false_positive_rate, true_positive_rate)\n",
        "plot_roc_(false_positive_rate,true_positive_rate,roc_auc)"
      ],
      "execution_count": null,
      "outputs": [
        {
          "output_type": "display_data",
          "data": {
            "image/png": "[encoded data removed]",
            "text/plain": [
              "<Figure size 360x360 with 1 Axes>"
            ]
          },
          "metadata": {
            "tags": []
          }
        }
      ]
    },
    {
      "cell_type": "code",
      "metadata": {
        "id": "5DpRh2mEQa97",
        "colab": {
          "base_uri": "https://localhost:8080/",
          "height": 301
        },
        "outputId": "4a25ee39-375d-4c63-9f73-073bd6d9a97e"
      },
      "source": [
        "from sklearn.metrics import roc_curve, auc\n",
        "fpr = dict()\n",
        "tpr = dict()\n",
        "roc_auc = dict()\n",
        "for i in range(2):\n",
        "    fpr[i], tpr[i], _ = roc_curve(test_y, test_y_pred)\n",
        "    roc_auc[i] = auc(fpr[i], tpr[i])\n",
        "\n",
        "plt.figure()\n",
        "lw = 2\n",
        "plt.plot(fpr[0], tpr[0], color='darkorange',\n",
        "         lw=lw, label='ROC curve (area = %0.2f)' % roc_auc[0])\n",
        "plt.plot([0, 1], [0, 1], color='navy', lw=lw, linestyle='--')\n",
        "plt.xlim([0.0, 1.0])\n",
        "plt.ylim([0.0, 1.05])\n",
        "plt.xlabel('False Positive Rate')\n",
        "plt.ylabel('True Positive Rate')\n",
        "plt.title('Receiver operating characteristic example')\n",
        "plt.legend(loc=\"lower right\")\n",
        "plt.show()"
      ],
      "execution_count": null,
      "outputs": [
        {
          "output_type": "display_data",
          "data": {
            "image/png": "[encoded data removed]",
            "text/plain": [
              "<Figure size 432x288 with 1 Axes>"
            ]
          },
          "metadata": {
            "tags": []
          }
        }
      ]
    }
  ]
}